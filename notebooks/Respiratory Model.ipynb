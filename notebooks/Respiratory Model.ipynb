{
 "cells": [
  {
   "cell_type": "code",
   "execution_count": 14,
   "id": "e64ce21f-45d2-4e3b-b5a0-bf0fdde06ec7",
   "metadata": {},
   "outputs": [
    {
     "name": "stdout",
     "output_type": "stream",
     "text": [
      "WARNING:tensorflow:5 out of the last 54 calls to <function TensorFlowTrainer.make_predict_function.<locals>.one_step_on_data_distributed at 0x00000152DA0FC9D0> triggered tf.function retracing. Tracing is expensive and the excessive number of tracings could be due to (1) creating @tf.function repeatedly in a loop, (2) passing tensors with different shapes, (3) passing Python objects instead of tensors. For (1), please define your @tf.function outside of the loop. For (2), @tf.function has reduce_retracing=True option that can avoid unnecessary retracing. For (3), please refer to https://www.tensorflow.org/guide/function#controlling_retracing and https://www.tensorflow.org/api_docs/python/tf/function for  more details.\n",
      "\u001b[1m1/1\u001b[0m \u001b[32m━━━━━━━━━━━━━━━━━━━━\u001b[0m\u001b[37m\u001b[0m \u001b[1m0s\u001b[0m 102ms/step\n",
      "Predicted Class: Healthy\n"
     ]
    }
   ],
   "source": [
    "import numpy as np\n",
    "import librosa\n",
    "import librosa.display\n",
    "from keras.models import load_model\n",
    "import matplotlib.pyplot as plt\n",
    "\n",
    "int_to_label = {\n",
    "    0: 'Asthma',\n",
    "    1: 'Bronchiectasis',\n",
    "    2: 'COPD',\n",
    "    3: 'Healthy',\n",
    "    4: 'LRTI',\n",
    "    5: 'Pneumonia',\n",
    "    6: 'URTI'\n",
    "}\n",
    "\n",
    "def extract_features(respiratory_sound_data, offset=0.5, duration=3):\n",
    "    y, sr = librosa.load(respiratory_sound_data, offset=offset, duration=duration)\n",
    "    y = librosa.util.normalize(y)  # Normalize audio\n",
    "    S = librosa.feature.melspectrogram(y=y, sr=sr, n_fft=2048, hop_length=512, n_mels=128)\n",
    "    mfccs = librosa.feature.mfcc(S=librosa.power_to_db(S), n_mfcc=40)\n",
    "    return mfccs\n",
    "\n",
    "\n",
    "model = load_model(\"respiratory_sound_classifier.keras\")\n",
    "\n",
    "\n",
    "classify_file = \"test_audio.wav\"  # Replace with your audio filename\n",
    "\n",
    "\n",
    "x_test = []\n",
    "x_test.append(extract_features(classify_file))\n",
    "x_test = np.array(x_test)\n",
    "\n",
    "\n",
    "x_test = x_test.reshape(x_test.shape[0], x_test.shape[1], x_test.shape[2], 1)\n",
    "\n",
    "\n",
    "pred = model.predict(x_test, verbose=1)\n",
    "\n",
    "pred_class = np.argmax(pred, axis=1)\n",
    "print(\"Predicted Class:\", int_to_label[pred_class[0]])\n"
   ]
  }
 ],
 "metadata": {
  "kernelspec": {
   "display_name": "Python 3.10 (TensorFlow)",
   "language": "python",
   "name": "python310"
  },
  "language_info": {
   "codemirror_mode": {
    "name": "ipython",
    "version": 3
   },
   "file_extension": ".py",
   "mimetype": "text/x-python",
   "name": "python",
   "nbconvert_exporter": "python",
   "pygments_lexer": "ipython3",
   "version": "3.10.11"
  }
 },
 "nbformat": 4,
 "nbformat_minor": 5
}
